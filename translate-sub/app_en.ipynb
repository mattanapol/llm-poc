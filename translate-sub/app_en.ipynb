{
 "cells": [
  {
   "cell_type": "code",
   "execution_count": 6,
   "metadata": {},
   "outputs": [],
   "source": [
    "audio_original_file_path = \"./meeting_audio.mp3\""
   ]
  },
  {
   "cell_type": "code",
   "execution_count": 31,
   "metadata": {},
   "outputs": [
    {
     "name": "stdout",
     "output_type": "stream",
     "text": [
      "[youtube] Extracting URL: https://www.youtube.com/watch?v=-UEVMrSM8og\n",
      "[youtube] -UEVMrSM8og: Downloading webpage\n",
      "[youtube] -UEVMrSM8og: Downloading tv client config\n",
      "[youtube] -UEVMrSM8og: Downloading player 1080ef44\n",
      "[youtube] -UEVMrSM8og: Downloading tv player API JSON\n",
      "[youtube] -UEVMrSM8og: Downloading ios player API JSON\n",
      "[youtube] -UEVMrSM8og: Downloading m3u8 information\n",
      "[info] -UEVMrSM8og: Downloading 1 format(s): 616+140\n",
      "[hlsnative] Downloading m3u8 manifest\n",
      "[hlsnative] Total fragments: 1299\n",
      "[download] Destination: Poor Boy Was Refused By A Girl, But Received SS-Rank Billionaire System - Mancap [-UEVMrSM8og].f616.mp4\n",
      "[download] 100% of    2.61GiB in 00:25:01 at 1.78MiB/s                       \n",
      "[download] Destination: Poor Boy Was Refused By A Girl, But Received SS-Rank Billionaire System - Mancap [-UEVMrSM8og].f140.m4a\n",
      "[download] 100% of  112.55MiB in 00:00:54 at 2.07MiB/s     \n",
      "[Merger] Merging formats into \"Poor Boy Was Refused By A Girl, But Received SS-Rank Billionaire System - Mancap [-UEVMrSM8og].mp4\"\n",
      "Deleting original file Poor Boy Was Refused By A Girl, But Received SS-Rank Billionaire System - Mancap [-UEVMrSM8og].f616.mp4 (pass -k to keep)\n",
      "Deleting original file Poor Boy Was Refused By A Girl, But Received SS-Rank Billionaire System - Mancap [-UEVMrSM8og].f140.m4a (pass -k to keep)\n"
     ]
    }
   ],
   "source": [
    "from yt_dlp import YoutubeDL\n",
    "\n",
    "# def download_video(url, save_path=\".\"):\n",
    "#     try:\n",
    "#         yt = YouTube(url)\n",
    "\n",
    "#         # Get the highest resolution stream available\n",
    "#         stream = yt.streams.get_highest_resolution()\n",
    "\n",
    "#         print(f\"Downloading: {yt.title}\")\n",
    "#         stream.download(output_path=save_path)\n",
    "#         print(\"Download complete!\")\n",
    "\n",
    "#     except Exception as e:\n",
    "#         print(f\"An error occurred: {e}\")\n",
    "\n",
    "def format_selector(ctx):\n",
    "    \"\"\" Select the best video and the best audio that won't result in an mkv.\n",
    "    NOTE: This is just an example and does not handle all cases \"\"\"\n",
    "\n",
    "    # formats are already sorted worst to best\n",
    "    formats = ctx.get('formats')[::-1]\n",
    "\n",
    "    # acodec='none' means there is no audio\n",
    "    best_video = next(f for f in formats\n",
    "                      if f['vcodec'] != 'none' and f['acodec'] == 'none')\n",
    "\n",
    "    # find compatible audio extension\n",
    "    audio_ext = {'mp4': 'm4a', 'webm': 'webm'}[best_video['ext']]\n",
    "    # vcodec='none' means there is no video\n",
    "    best_audio = next(f for f in formats if (\n",
    "        f['acodec'] != 'none' and f['vcodec'] == 'none' and f['ext'] == audio_ext))\n",
    "\n",
    "    # These are the minimum required fields for a merged format\n",
    "    yield {\n",
    "        'format_id': f'{best_video[\"format_id\"]}+{best_audio[\"format_id\"]}',\n",
    "        'ext': best_video['ext'],\n",
    "        'requested_formats': [best_video, best_audio],\n",
    "        # Must be + separated list of protocols\n",
    "        'protocol': f'{best_video[\"protocol\"]}+{best_audio[\"protocol\"]}'\n",
    "    }\n",
    "\n",
    "def download_video(url, save_path=\".\"):\n",
    "    URLS = [url]\n",
    "\n",
    "    ydl_opts = {\n",
    "        'format': format_selector,\n",
    "        'output': save_path,\n",
    "    }\n",
    "\n",
    "    with YoutubeDL(ydl_opts) as ydl:\n",
    "        ydl.download(URLS)\n",
    "\n",
    "download_video(\"https://www.youtube.com/watch?v=-UEVMrSM8og\", \"./youtube_output.mp4\")"
   ]
  },
  {
   "cell_type": "code",
   "execution_count": 1,
   "metadata": {},
   "outputs": [
    {
     "name": "stdout",
     "output_type": "stream",
     "text": [
      "{'video_found': True, 'audio_found': True, 'metadata': {'major_brand': 'isom', 'minor_version': '512', 'compatible_brands': 'isomiso2avc1mp41', 'encoder': 'Google'}, 'inputs': [{'streams': [{'input_number': 0, 'stream_number': 0, 'stream_type': 'video', 'language': None, 'default': True, 'size': [1920, 1080], 'bitrate': 1221, 'fps': 24.0, 'codec_name': 'h264', 'profile': '(High)', 'metadata': {'Metadata': '', 'handler_name': 'VideoHandler', 'vendor_id': '[0][0][0][0]'}}, {'input_number': 0, 'stream_number': 1, 'stream_type': 'audio', 'language': None, 'default': True, 'fps': 48000, 'bitrate': 128, 'metadata': {'Metadata': '', 'handler_name': 'SoundHandler', 'vendor_id': '[0][0][0][0]'}}], 'input_number': 0}], 'duration': 2782.83, 'bitrate': 1353, 'start': 0.0, 'default_video_input_number': 0, 'default_video_stream_number': 0, 'video_codec_name': 'h264', 'video_profile': '(High)', 'video_size': [1920, 1080], 'video_bitrate': 1221, 'video_fps': 24.0, 'default_audio_input_number': 0, 'default_audio_stream_number': 1, 'audio_fps': 48000, 'audio_bitrate': 128, 'video_duration': 2782.83, 'video_n_frames': 66787}\n",
      "/Users/kaewsai/miniconda3/envs/translate-sub/lib/python3.12/site-packages/imageio_ffmpeg/binaries/ffmpeg-macos-aarch64-v7.1 -i ./meeting_record_video.mp4 -loglevel error -f image2pipe -vf scale=1920:1080 -sws_flags bicubic -pix_fmt rgb24 -vcodec rawvideo -\n",
      "MoviePy - Writing audio in ./meeting_audio.mp3\n"
     ]
    },
    {
     "name": "stderr",
     "output_type": "stream",
     "text": [
      "                                                                        \r"
     ]
    },
    {
     "name": "stdout",
     "output_type": "stream",
     "text": [
      "MoviePy - Done.\n",
      "Audio extracted and saved to: ./meeting_audio.mp3\n"
     ]
    }
   ],
   "source": [
    "import moviepy as mp\n",
    "\n",
    "def extract_audio_with_context(video_path, output_audio_path):\n",
    "    try:\n",
    "        with mp.VideoFileClip(video_path) as video_clip:\n",
    "            audio_clip = video_clip.audio\n",
    "            audio_clip.write_audiofile(output_audio_path)\n",
    "            print(f\"Audio extracted and saved to: {output_audio_path}\")\n",
    "            audio_clip.close()\n",
    "\n",
    "    except Exception as e:\n",
    "        print(f\"An error occurred: {e}\")\n",
    "\n",
    "video_file = \"./meeting_record_video.mp4\"\n",
    "audio_file = \"./meeting_audio.mp3\"\n",
    "extract_audio_with_context(video_file, audio_file)"
   ]
  },
  {
   "cell_type": "code",
   "execution_count": 4,
   "metadata": {},
   "outputs": [],
   "source": [
    "import json\n",
    "\n",
    "def save_object_to_json(obj, filename):\n",
    "    try:\n",
    "        with open(filename, 'w', encoding='utf-8') as f:  # Use utf-8 encoding\n",
    "            json.dump(obj, f, indent=4, ensure_ascii=False) # Use indent for pretty printing, ensure_ascii for non-ascii support\n",
    "        print(f\"Object successfully saved to {filename}\")\n",
    "    except TypeError as e:\n",
    "        print(f\"Error: Object is not JSON serializable: {e}\")\n",
    "    except Exception as e:\n",
    "        print(f\"An error occurred while saving to {filename}: {e}\")\n",
    "\n",
    "def read_json_to_dict(filename) -> dict:\n",
    "    try:\n",
    "        with open(filename, 'r', encoding='utf-8') as f:\n",
    "            data = json.load(f)\n",
    "            print(f\"Data successfully loaded from {filename}\")\n",
    "            return data\n",
    "    except FileNotFoundError:\n",
    "        print(f\"Error: File not found: {filename}\")\n",
    "        return None\n",
    "    except json.JSONDecodeError:\n",
    "        print(f\"Error: Invalid JSON format in {filename}\")\n",
    "        return None\n",
    "    except Exception as e:\n",
    "        print(f\"An error occurred while reading {filename}: {e}\")\n",
    "        return None\n",
    "    \n",
    "def glossary_dict_to_str(d: dict) -> str:\n",
    "    return \"\\n\".join([f\"{k} = {v}\" for k, v in d.items()])\n",
    "\n",
    "def glossary_list_to_str(l: list) -> str:\n",
    "    return \"\\n\".join(l)\n"
   ]
  },
  {
   "cell_type": "code",
   "execution_count": 30,
   "metadata": {},
   "outputs": [],
   "source": [
    "import whisper\n",
    "\n",
    "def transcribe_audio(audio_file_path):\n",
    "    model = whisper.load_model(\"large\")\n",
    "    # audio = whisper.load_audio(audio_file_path)\n",
    "    # mel = whisper.log_mel_spectrogram(audio).to(model.device)\n",
    "    # options = whisper.DecodingOptions(language=\"th\")\n",
    "    result = model.transcribe(\n",
    "        audio=audio_file_path,\n",
    "        word_timestamps=True,\n",
    "        language=\"th\"\n",
    "        )\n",
    "    # result = whisper.decode(model, mel, options)\n",
    "    return result"
   ]
  },
  {
   "cell_type": "code",
   "execution_count": 4,
   "metadata": {},
   "outputs": [],
   "source": [
    "from pydub import AudioSegment\n",
    "\n",
    "def split_audio_into_chunks(audio_original_file_path, output_folder, chunk_duration, overlap_duration) -> list[str]:\n",
    "    output_file_paths = []\n",
    "    song = AudioSegment.from_mp3(audio_original_file_path)\n",
    "    chunk_length = chunk_duration * 1000\n",
    "    overlap_length = overlap_duration * 1000\n",
    "    start = 0\n",
    "    while start < len(song):\n",
    "        end = start + chunk_length\n",
    "        chunk = song[start:end]\n",
    "        output_file_path = f\"{output_folder}/chunk_{len(output_file_paths)}.mp3\"\n",
    "        output_file_paths.append(output_file_path)\n",
    "        chunk.export(output_file_path, format=\"mp3\")\n",
    "        start += chunk_length - overlap_length\n",
    "    return output_file_paths"
   ]
  },
  {
   "cell_type": "code",
   "execution_count": 59,
   "metadata": {},
   "outputs": [],
   "source": [
    "from langchain_openai import ChatOpenAI\n",
    "from langchain_core.prompts import ChatPromptTemplate\n",
    "from langchain_core.output_parsers import StrOutputParser\n",
    "\n",
    "def translate_text(text: str, glossary: dict) -> str:\n",
    "    llm = ChatOpenAI(model=\"gpt-4o-mini\")\n",
    "\n",
    "    prompt = ChatPromptTemplate.from_messages([\n",
    "        (\"system\",\n",
    "        \"\"\"\n",
    "        You are narrative translator that can translate English into Thai.\n",
    "        You will be provide with a long, unstructured block of information in English.\n",
    "        Please rewrite it into clear, concise, and well-structured sentences.\n",
    "        The primary goal is to make the text easy to understand when read aloud.\n",
    "        Pay close attention to punctuation, sentence flow and make use of commas.\n",
    "        Always use commas to separate clauses, phrases and sentence.\n",
    "        Never use full stops to separate sentences.\n",
    "        You will also provided glossary, so use them when necessary.\n",
    "        Then translate the sentences into Thai, output only the Thai translation.\n",
    "\n",
    "        Example input 1:\n",
    "        Glossary:\n",
    "        ```\n",
    "        Valhalla = วัลฮาล่า\n",
    "        ```\n",
    "        English input:\n",
    "        ```\n",
    "        Story begins in a place called Valhalla\n",
    "        one of the top three Hunter training\n",
    "        institutions where countless Hunters\n",
    "        apply but with an admission rate of 500\n",
    "        to 1. not even 150 people can graduate\n",
    "        with the name of Valhalla\n",
    "        ```\n",
    "        Example output 1:\n",
    "        เรื่องราวเริ่มต้นขึ้นที่สถานที่ชื่อว่าวัลฮาล่า,\n",
    "        ซึ่งเป็นหนึ่งในสามสถาบันฝึกอบรมฮันเตอร์ที่ดีที่สุด,\n",
    "        มีฮันเตอร์จำนวนมากที่สมัครเข้าเรียน, แต่มีอัตราการรับเข้าเรียนที่น่าทึ่งถึง 500 ต่อ 1,\n",
    "        ไม่ถึง 150 คนสามารถจบการศึกษาด้วยชื่อวัลฮาล่า,\n",
    "\n",
    "        Example input 2:\n",
    "        Glossary:\n",
    "        ```\n",
    "        Chen = เฉิน\n",
    "        Shadong = ชาดง\n",
    "        dog-licking = dog-licking\n",
    "        ```\n",
    "        English input:\n",
    "        ```\n",
    "        She pushes Chen in anger while going out of the store. \n",
    "        She also tells him that he has gone too far. \n",
    "        He looks at her, smirks, and thinks they still have a long way to go. \n",
    "        The system tells him to bind the dog-licking relationship no. 2 with Shadong.\n",
    "        ```\n",
    "        Example output 2:\n",
    "        เธอผลักเฉินออกด้วยความโกรธขณะออกจากร้าน,\n",
    "        และบอกเขาว่าเขาได้ทำเกินไป, \n",
    "        เขามองเธอ, ยิ้มเยาะ, และคิดว่าหนทางยังมีอีกยาวไกล,\n",
    "        ระบบบอกให้เขา bind ความสัมพันธ์ dog-licking ลำดับที่สองกับชาดง,\n",
    "        \"\"\"),\n",
    "        (\"user\",\n",
    "        \"\"\"\n",
    "        Glossary:\n",
    "        ```\n",
    "        {glossary}\n",
    "        ```\n",
    "        English input:\n",
    "        ```\n",
    "        {sentences}\n",
    "        ```\n",
    "        \"\"\"),\n",
    "    ])\n",
    "\n",
    "    output_parser = StrOutputParser()\n",
    "\n",
    "    chain = prompt | llm | output_parser\n",
    "    output = chain.invoke({\"sentences\": text, \"glossary\": glossary_dict_to_str(glossary)})\n",
    "    return output"
   ]
  },
  {
   "cell_type": "code",
   "execution_count": 10,
   "metadata": {},
   "outputs": [],
   "source": [
    "from langchain_openai import ChatOpenAI\n",
    "from langchain_core.prompts import ChatPromptTemplate\n",
    "from langchain_core.output_parsers import StrOutputParser\n",
    "\n",
    "def enhance_transcribed_meeting(text: str, glossary: list) -> str:\n",
    "    llm = ChatOpenAI(model=\"gpt-4o-mini\")\n",
    "\n",
    "    prompt = ChatPromptTemplate.from_messages([\n",
    "        (\"system\",\n",
    "        \"\"\"\n",
    "        You are a specialized meeting transcription editor for software development industry.\n",
    "        You will be given a meeting transcript.\n",
    "        The meeting transcript will be in Thai and technical term will be in English.\n",
    "        Your task is to correct any mis-transcribed words, especially those related to software development.\n",
    "        Consider the surrounding words and sentences to understand the intended meaning.\n",
    "        If a word is unclear, try to infer the most likely correct word based on context.\n",
    "        If multiple corrections are possible, choose the one that best fits the overall topic of the meeting.\n",
    "        Use your knowledge of industry to identify the most likely correct words.\n",
    "        You will also be provided with a glossary of technical terms, use them when necessary.\n",
    "        Return only the corrected transcript.\n",
    "        \"\"\"),\n",
    "        (\"user\",\n",
    "        \"\"\"\n",
    "        Glossary:\n",
    "        ```\n",
    "        {glossary}\n",
    "        ```\n",
    "        Original meeting transcript:\n",
    "        ```\n",
    "        {sentences}\n",
    "        ```\n",
    "        \"\"\"),\n",
    "    ])\n",
    "\n",
    "    output_parser = StrOutputParser()\n",
    "\n",
    "    chain = prompt | llm | output_parser\n",
    "    output = chain.invoke({\"sentences\": text, \"glossary\": glossary_list_to_str(glossary)})\n",
    "    return output"
   ]
  },
  {
   "cell_type": "code",
   "execution_count": null,
   "metadata": {},
   "outputs": [],
   "source": [
    "def generate_speech_from_text(text, output_file_path):\n",
    "  import azure.cognitiveservices.speech as speechsdk\n",
    "\n",
    "  # Creates an instance of a speech config with specified subscription key and service region.\n",
    "  speech_key = \"\"\n",
    "  service_region = \"southeastasia\"\n",
    "\n",
    "  speech_config = speechsdk.SpeechConfig(subscription=speech_key, region=service_region)\n",
    "  # Note: the voice setting will not overwrite the voice element in input SSML.\n",
    "  # speech_config.speech_synthesis_voice_name = \"th-TH-AcharaNeural\"\n",
    "  speech_config.speech_synthesis_voice_name = \"th-TH-NiwatNeural\"\n",
    "  audio_config = speechsdk.audio.AudioOutputConfig(filename=output_file_path)\n",
    "\n",
    "  # use the default speaker as audio output.\n",
    "  speech_synthesizer = speechsdk.SpeechSynthesizer(speech_config=speech_config, audio_config=audio_config)\n",
    "\n",
    "  result = speech_synthesizer.speak_text_async(text).get()\n",
    "  # Check result\n",
    "  if result.reason == speechsdk.ResultReason.SynthesizingAudioCompleted:\n",
    "      print(\"Speech synthesized for text [{}]\".format(text))\n",
    "  elif result.reason == speechsdk.ResultReason.Canceled:\n",
    "      cancellation_details = result.cancellation_details\n",
    "      print(\"Speech synthesis canceled: {}\".format(cancellation_details.reason))\n",
    "      if cancellation_details.reason == speechsdk.CancellationReason.Error:\n",
    "          print(\"Error details: {}\".format(cancellation_details.error_details))\n",
    "\n"
   ]
  },
  {
   "cell_type": "code",
   "execution_count": 9,
   "metadata": {},
   "outputs": [],
   "source": [
    "import os"
   ]
  },
  {
   "cell_type": "code",
   "execution_count": 61,
   "metadata": {},
   "outputs": [],
   "source": [
    "import os\n",
    "def process_audio(input_audio_file_path, glossary):\n",
    "    print(f\"Transcribing {os.path.basename(input_audio_file_path)}\")\n",
    "    result = transcribe_audio(input_audio_file_path)\n",
    "    # get file name without extension\n",
    "    input_audio_file_path_without_ext = os.path.basename(input_audio_file_path).split(\".\")[0]\n",
    "    translated_result = translate_text(result['text'], glossary)\n",
    "    result['translated_text'] = translated_result\n",
    "    save_object_to_json(result, f\"{input_audio_file_path_without_ext}.json\")\n",
    "    generate_speech_from_text(translated_result, f\"{input_audio_file_path_without_ext}_translated.mp3\")"
   ]
  },
  {
   "cell_type": "code",
   "execution_count": 7,
   "metadata": {},
   "outputs": [],
   "source": [
    "output_file_paths = split_audio_into_chunks(audio_original_file_path, \".\", 8*60, 10)"
   ]
  },
  {
   "cell_type": "code",
   "execution_count": 31,
   "metadata": {},
   "outputs": [
    {
     "name": "stderr",
     "output_type": "stream",
     "text": [
      "/Users/kaewsai/miniconda3/envs/translate-sub/lib/python3.12/site-packages/whisper/__init__.py:150: FutureWarning: You are using `torch.load` with `weights_only=False` (the current default value), which uses the default pickle module implicitly. It is possible to construct malicious pickle data which will execute arbitrary code during unpickling (See https://github.com/pytorch/pytorch/blob/main/SECURITY.md#untrusted-models for more details). In a future release, the default value for `weights_only` will be flipped to `True`. This limits the functions that could be executed during unpickling. Arbitrary objects will no longer be allowed to be loaded via this mode unless they are explicitly allowlisted by the user via `torch.serialization.add_safe_globals`. We recommend you start setting `weights_only=True` for any use case where you don't have full control of the loaded file. Please open an issue on GitHub for any issues related to this experimental feature.\n",
      "  checkpoint = torch.load(fp, map_location=device)\n",
      "/Users/kaewsai/miniconda3/envs/translate-sub/lib/python3.12/site-packages/whisper/transcribe.py:126: UserWarning: FP16 is not supported on CPU; using FP32 instead\n",
      "  warnings.warn(\"FP16 is not supported on CPU; using FP32 instead\")\n",
      "python(41810) MallocStackLogging: can't turn off malloc stack logging because it was not enabled.\n"
     ]
    },
    {
     "name": "stdout",
     "output_type": "stream",
     "text": [
      "Object successfully saved to chunk_0.json\n"
     ]
    }
   ],
   "source": [
    "for output_file_path in output_file_paths:\n",
    "    result = transcribe_audio(output_file_path)\n",
    "    input_audio_file_path_without_ext = os.path.basename(output_file_path).split(\".\")[0]\n",
    "    save_object_to_json(result, f\"{input_audio_file_path_without_ext}.json\")\n",
    "    break"
   ]
  },
  {
   "cell_type": "code",
   "execution_count": 11,
   "metadata": {},
   "outputs": [
    {
     "name": "stdout",
     "output_type": "stream",
     "text": [
      "Data successfully loaded from nocnoc_glossary.json\n",
      "Data successfully loaded from chunk_0.json\n",
      "```\n",
      "ครับ ตอนนี้ขอคอนเฟิร์มหน่อยนะครับว่าตอนนี้สิ่งที่น้อง ๆ คล้อยมีที่เป็น Tool ที่เรามีครับตอนนี้มันจะมีตัวที่มันไปเอาของจาก S3 มาสร้างเป็น Request แล้วก็ปั้น API ยิงไปหา NetSuite ใช่ป่ะครับแล้วก็เสร็จปุ๊บก็ Save ข้อมูลที่ได้ลง Database ครับผม ใช่ครับมีเท่านี้เลยใช่ไหมครับ ใช่ครับโอเค งั้นฝากนายช่วย Go To ให้หน่อยได้ไหมครับว่าแต่ละตัวเนี่ยมันใช้เทคโนโลยีอะไรบ้างแล้วก็มัน Implement มี Repo อะไรตรงไหนบ้างโอเคครับโอเคครับโอเค อันนี้นะ ขอขึ้นเชิญครับครับโอเคครับ ก็ของตัว NocNoc Choice เดี๋ยวผมมาให้ดูดีด้วยก็มันจะมีของ NocNoc Choice ตัวเนี่ย มันจะมีข้อมูลที่ตั้งต้นมาจาก S3 มันจะมีผมเรียกไป 2 Source แล้วกันก็คือ Source 1 มันจะมาจากตัว Toll เนี่ยตัว Toll นี้จะเป็น เหมือนกับเขาทำ FTP มาให้มาวางไว้ครับก็จะเป็นตัว Folder ที่เป็น Toll B2C ตรงนี้ครับครับตัวนี้ก็จะเป็น เหมือน Source ตั้งต้นที่ผมจะไปดึงนะ เอาแต่ละรายการมาของเขาทิ้ง เขาไปปั้น API ที่ส่งไปหาตัว Made in Sweden แล้วก็ครับแล้วก็จะมีของที่อื่น ๆ ด้วยคือจะเป็นข้อมูลที่ตัวของ Toll B2C มัน ข้อมูลไม่ครบ จะเป็นพวก ส่วนใหญ่เวลาเป็นพวก Pricing พวกนี้ครับมันจะมี Order ของแต่ละอันที่เป็น Source ที่ดึงมาอีกทีหนึ่งส่วนต้นต้นของ NocNoc ก็จะเป็น NocNoc Beta B ตัวนี้จะแยกเป็น 2 ฝ่ายก็จะมีตัวชุดที่เป็น Order กับชุดที่เป็นตัว Fulfillment ตัว SelluSeller นี้จะใช้รวมของที่เป็น Shopee กับ Lazada แล้วจะมี Shopee ที่มีแยกที่ Field มันไม่ครบอีกแล้วก็มีตรงที่เป็น Zero Center ของมันอีกทีมันก็จะมีหลาย Source อยู่แล้วก็ตัว Folder ที่ตอนนี้ที่เป็นที่โทร PPC ตัวนี้จะ Automate ครับแต่ว่าตัว Folder อื่น ๆ ตอนนี้จะเป็นที่ TechOps เป็นคนออกไฟล์มาวางให้อยู่ครับยังไม่ได้ทำเป็น Automate ไว้ก็ตัวนี้ก็จะใช้เป็นตัว Step Function ครับแล้วก็เป็นหัวข่าว Lambda ตัวนี้จะมีแค่ Lambda ตัวเดียวแต่ว่าตัวนั้นจะเขียนเป็น Method ไว้ว่าให้ทำอะไรใน Corsair ไหนบ้างก็ในแต่ละวันที่เวลา 9.30 น. เขาวิ่งมาตัวนี้จะใช้เป็น EventBridge ครับถ้าใช้เป็น Schedule ครับของ EventBridge เมื่อถึงเวลาก็จะ Trigger Start Execution ของตัว Processor ตัวหลักตัวนี้ครับตัวนี้ข้างในมันก็จะไป Call ตัว Step ของแต่ละอันอื่น ๆ นิดทีนึงครับตัว Setup ก็จะเป็นพวก API ที่เป็น Create, Get Item, Create Customer, Get Customer ครับผมแล้วก็มาวิ่งไป Create SO, Create CSD, Create IF, Create IV อย่างนี้ครับซึ่งอันนี้มันทำทีละอันใช่ไหมครับ หรือว่ามันทำพร้อมกันมันจะเป็นทำทีละอันครับ เพราะว่าตัวใน Suite มันส่ง API เป็น Frequency ไม่ได้สมมุติไม่อนุญาตก็เลยได้แค่ทีละรายการนี้ครับทีละ API ทีละรายการครับผม อืมเดี๋ยวจะเอาไว้นิดนึงเพื่อเพิ่มการ Derek Just อาระ ที่เหรอครับครับ สมัครเข้ากับ Ego ครับครับครับ เอาน่าครับยังจะไปในตอนนี้ครับอากาศแต่ละ Newspaper ตอนนี้เรามาเสมาหาโค้ง Faults Energies ระเบิดต๊า So NocNoc เท่านี้ Section ง่าย Fashion Kirby ออกมาแทบกันของ co-op นึงก็นิดนึงครับ Yazju ก็ตัวนี้ ด้วยที่ว่า ตัว Photo B2C มันจะมี File Format เป็น xls แต่ว่าตัว Step Function ตัวนี้ผมจะให้มัน Run ไปเป็นตัว Map Process CSV ของตัว Step Function นะครับตัวนี้มันไม่ได้มี Process ของ xls อะไรอย่างนี้ด้วยครับก็เลยจะมีตัวนี้ไปตัว List File มาเพื่อเอาไปแปลงต่อของแต่ละ Step ทีนะครับตัวนี้จะเป็นแค่ List เฉย ๆ เสร็จแล้วมันจะ Run ตัวนี้ต่อครับจะเป็นตัวที่เป็น Absurd External Source มันก็คือผมจะไปกวาดตัว Folder พวกนี้มาก่อนนะครับที่เป็น External Source ตามที่เป็นเรื่อง Pricing อะไรพวกนี้ครับก็ตอนนี้จะช่วยเชิญเอา Start แล้วก็เสิร์ฟตัวนี้จะเป็น Repo ครับเดี๋ยวผมก็ไปส่งให้จะเป็นที่ใช้ Integration Function อย่างนี้ครับตัว Repo นี้ก็ข้างในนั้นก็จะมีเป็นตัว Processor ก็จะเป็น Lambda ครับตัว Step Function ก็จะเป็น Config เหมือน Logic ครับตัวที่เป็น Declare ของ Step Function อีกฝ่านึงก็เป็นตัวที่เอาไว้ Mapping ตอน Deploy ครับว่าตอน Deploy จะใช้เป็น ARN ที่มันชื่อไม่เหมือนกันหรอกต้องเป็น Repo ที่ชื่อ Records ตัว Map ก็คือจะเป็น Map of the Envs ตรงนี้นะครับมาใส่แทนตัวที่ Field ต่าง ๆ ของพวกนี้ครับ ที่ใช้ในตอน Deployment ตอน Deployment ก็เป็น Script Deploy ตรงนี้ครับตัวนี้ก็จะมี Declare เพื่อการ Deploy ว่า Tier Volume ไหนมี Deploy อะไรบ้างครับก็จะเป็นใส่ชื่อฟังก์ชัน ตัวนี้ก็คือชื่อ Folder ของฟังก์ชัน ตัว Lambda Function นี้คือ Target Function ที่เป็น Resort ของ AWS ครับเช่นเดียวกัน Step Function ครับ ก็มี Step Function ที่เป็นตัวชื่อ File แล้วก็ตัว Function หนึ่งที่เป็น Target ของผมครับตัวที่เป็น Processor นะครับ ก็จะลงเหมือนมี Handler ตัวนี้ก็จะเป็นตัว\n",
      "```\n"
     ]
    }
   ],
   "source": [
    "glossary = read_json_to_dict(\"nocnoc_glossary.json\")[\"terms\"]\n",
    "info = read_json_to_dict(\"chunk_0.json\")\n",
    "enhanced_result = enhance_transcribed_meeting(info['text'], glossary)\n",
    "print(enhanced_result)"
   ]
  },
  {
   "cell_type": "code",
   "execution_count": 10,
   "metadata": {},
   "outputs": [
    {
     "name": "stdout",
     "output_type": "stream",
     "text": [
      "Object successfully saved to chunk_0.json\n"
     ]
    }
   ],
   "source": [
    "input_audio_file_path_without_ext = os.path.basename(output_file_path).split(\".\")[0]\n",
    "save_object_to_json(result, f\"{input_audio_file_path_without_ext}.json\")"
   ]
  },
  {
   "cell_type": "code",
   "execution_count": 57,
   "metadata": {},
   "outputs": [
    {
     "name": "stdout",
     "output_type": "stream",
     "text": [
      "Data successfully loaded from glossary.json\n",
      "Transcribing chunk_0.mp3\n"
     ]
    },
    {
     "name": "stderr",
     "output_type": "stream",
     "text": [
      "/Users/kaewsai/miniconda3/envs/translate-sub/lib/python3.12/site-packages/whisper/__init__.py:150: FutureWarning: You are using `torch.load` with `weights_only=False` (the current default value), which uses the default pickle module implicitly. It is possible to construct malicious pickle data which will execute arbitrary code during unpickling (See https://github.com/pytorch/pytorch/blob/main/SECURITY.md#untrusted-models for more details). In a future release, the default value for `weights_only` will be flipped to `True`. This limits the functions that could be executed during unpickling. Arbitrary objects will no longer be allowed to be loaded via this mode unless they are explicitly allowlisted by the user via `torch.serialization.add_safe_globals`. We recommend you start setting `weights_only=True` for any use case where you don't have full control of the loaded file. Please open an issue on GitHub for any issues related to this experimental feature.\n",
      "  checkpoint = torch.load(fp, map_location=device)\n",
      "/Users/kaewsai/miniconda3/envs/translate-sub/lib/python3.12/site-packages/whisper/transcribe.py:126: UserWarning: FP16 is not supported on CPU; using FP32 instead\n",
      "  warnings.warn(\"FP16 is not supported on CPU; using FP32 instead\")\n"
     ]
    },
    {
     "name": "stdout",
     "output_type": "stream",
     "text": [
      "Object successfully saved to chunk_0.json\n",
      "Speech synthesized for text [เรื่องราวนี้เริ่มต้นในห้องของอาคารที่พัก, เฉินหยวนกำลังมองไปที่หน้าจอโทรศัพท์และหลั่งน้ำตา, \n",
      "สาเหตุที่ทำให้เขาร้องไห้คือข้อความที่แฟนของเขาส่งมา, ซึ่งเธอกำลังจะเลิกกับเขา. \n",
      "เขาถามเธอว่าทำไมอยู่ ๆ ถึงเป็นแบบนี้, ขณะร้องไห้เขาจึงส่งข้อความไปหาเธอและสัญญาว่าจะทำงานหนักเพื่อให้เธอมีชีวิตที่มีความสุข, \n",
      "แต่เธอกลับบล็อกเขาก่อนที่เขาจะส่งข้อความ. \n",
      "เขานอนข้ามเก้าอี้เหมือนคนตาย, เพื่อนร่วมห้องไม่ทราบว่าเกิดอะไรขึ้นกับเขา และเรียกเขาให้ไปเล่นเกม. \n",
      "แต่เขากลับไม่สนใจและวิ่งออกจากห้อง, เมื่อเห็นพฤติกรรมแปลก ๆ ของเขา, พวกเขาคิดว่ามันคือการเลิกราอีกครั้ง, \n",
      "นี่คือครั้งที่หกในเดือนนี้ที่เขาต้องเผชิญกับการเลิกรา. \n",
      "บนถนน, ผู้คนมองเขาและเริ่มกระซิบเกี่ยวกับเขา, พวกเขารู้จักเฉินหยวนในฐานะ dog licker ที่มีชื่อเสียง. \n",
      "เฉินมาที่นี่เพื่อตอบตกลงกับผู้หญิงที่เพิ่งเลิกกับเขา, ชื่อของเธอคือชาดง. \n",
      "เธอบอกเขาไม่ให้แสดงพฤติกรรมแบบนี้ในที่สาธารณะเพราะทุกคนกำลังมองพวกเขา. \n",
      "เขาบอกเธอว่าเขารู้ว่าเธอโกรธเขา, ดังนั้นเขาจึงนำหมูบัวเก๊า ซึ่งเป็นอาหารที่เธอชอบมามอบให้. \n",
      "เขาขอให้เธอให้อภัยเขาและไม่พูดถึงการเลิกราอีก. \n",
      "เขาจะเปลี่ยนแปลงฝ่ายที่ผิดของเขา. \n",
      "ผู้คนรอบ ๆ มองเขาและหัวเราะขณะที่กระซิบเกี่ยวกับเขา. \n",
      "มีคนหนึ่งบอกอีกคนว่าเขาได้ยินว่าเฉินทำงานพาร์ทไทม์สี่งานนอกบ้านเพื่อซื้อของขวัญให้เธอ, \n",
      "แต่เขาก็ยังโดนเธอทิ้ง. \n",
      "ชาดงบอกเขาว่าเธอไม่ได้โกรธ, แฟนเก่าของเขา, เฉินหยวน, เป็นคนที่โกรธ. \n",
      "เขาบอกเธอว่าเขานำหมูบัวเก๊ามาให้เธอและขอให้เธอให้อภัยเขา. \n",
      "เธอบอกเขาว่าเขานำหมูบัวเก๊ามาให้เธอจริง ๆ, หลังจากคิดมาก, เธอรู้สึกว่าเขาต้องการเธอมากกว่า. \n",
      "เขาโกรธและถามเธอว่าคิดว่าเขาคือใคร. \n",
      "เฉินบอกว่าแฟนเก่าของเธอเป็นคนเลว, เขาถามว่าเธอลืมไปแล้วว่าเขาเคยหลอกลวงเธอ. \n",
      "เขาเรียกร้องว่าเขาเคยทำให้เธอต้องทำแท้ง. \n",
      "ในขณะที่เขากำลังตะโกนใส่เธอ, รถเมอร์เซเดสหยุดข้างพวกเขา, \n",
      "มันคือแฟนของชาดง. \n",
      "เขาบอกเธอให้ขึ้นรถ, ก่อนที่จะขึ้นรถ, เธอบอกเฉินว่าดีกว่าที่จะไม่พบกันอีก. \n",
      "เฉินไม่ต้องการให้แฟนของเธอเข้าใจผิด, เธอเดินจากไปกับแฟนของเธอในขณะที่เฉินยืนมองดูพวกเขาจากไป. \n",
      "เฉินโยนอาหารนั้นลงถังขยะและไปที่ร้านสะดวกซื้อ, \n",
      "เขาหยิบน้ำขวดจากชั้นวางและเริ่มดื่มมัน, \n",
      "เขาสงสัยว่าทำไมหัวใจของเขาถึงถูกทรยศอยู่เสมอ, และเขาจะต้องเป็น dog licker ไปตลอดชีวิตหรือเปล่า. \n",
      "เขาทำให้ขวดนั้นแตกด้วยความโกรธและตัดสินใจว่าการเป็น dog licker ไม่มีอะไรผิด. \n",
      "ทันใดนั้น เขาได้รับการแจ้งเตือนว่าเขาถูกหลอกลวง, \n",
      "แต่เขากลับไม่โกรธ. \n",
      "เขาพูดว่าเขาไม่ได้ถูกหลอกลวง. \n",
      "เฉินตกใจเมื่อเห็นการแจ้งเตือนว่า dog licking system ที่ทรงพลังที่สุดได้ตรวจพบเจ้าของแล้ว. \n",
      "มีหน้าจอปรากฏขึ้นต่อหน้าเขา ซึ่งแสดงข้อมูลชีวภาพและสถิติของเขา. \n",
      "เขารู้สึกแปลกใจเมื่อเห็น dog licking system และเขาได้ติดตั้งมัน. \n",
      "เขาพยายามสัมผัสหน้าจอนั้นและสงสัยว่า plug-in นั้นใช้ทำอะไร. \n",
      "โดยไม่ตั้งใจ เขาสัมผัสกับหน้าอกของสาวคนหนึ่งที่ยืนอยู่ข้างหน้าเขา. \n",
      "เธอส่งเสียงตะโกนใส่เขา, เรียกเขาว่าเป็นคนประหลาด, และถามว่าเขาต้องการให้มือของเขาเปื้อนหรือไม่. \n",
      "เธอบอกว่าเขามองเธอมานานแล้ว. \n",
      "เขาไม่โกรธ, เขากล่าวว่าเขามองหน้าอกของเธอมาสักพัก. \n",
      "ระบบเริ่มแสดงข้อมูลของสาวคนนั้น, เธอชื่อจูเหลียว. \n",
      "ระบบแจ้งเขาว่า ด้วยความช่วยเหลือจาก dog licking system, ถ้าความชื่นชอบของผู้หญิงที่มีต่อเจ้าของเกิน 95 คะแนน, \n",
      "การโต้กลับจะประสบความสำเร็จ, และตัวตนของเธอจะถูกแปรเปลี่ยนเป็น dog licking ของเจ้าของ. \n",
      "เขาตระหนักว่าค่าหน้าเงิน dog licking มูลค่า 90 พันล้านนั้นสามารถใช้เพื่อใช้จ่ายกับผู้หญิงเท่านั้น. \n",
      "เขายังได้รับการบอกว่าเมื่อคู่ต่อสู้กลายเป็น dog ของเจ้าของ, หนึ่งในสิบของจำนวนเงินที่ใช้จ่ายจะถูกตอบแทนในบัญชีของเจ้าของและกลายเป็นทรัพย์สินส่วนตัว. \n",
      "เจ้าของยังสามารถได้รับการยกย่องอื่น ๆ. \n",
      "เฉินตัดสินใจที่จะใช้มันกับสาวตรงหน้าเขา. \n",
      "เขายิ้มและบอกเธอว่าอย่าโกรธเขา, เขาจะจ่ายค่าอาหารให้กับเธอในวันนี้. \n",
      "ระบบได้ bind ความสัมพันธ์ dog-licking ของพวกเขาอย่างสำเร็จ. \n",
      "ภารกิจของเขาคือการโต้กลับจู. \n",
      "รางวัลสำหรับการทำภารกิจให้สำเร็จคือ 10% dog licking gold และ 5 คะแนนพลัง. \n",
      "คะแนนการเสริมสร้างนี้สามารถเสริมสร้างคุณลักษณะทางกายภาพของเจ้าของรวมถึงความฟิตทางกายภาพ, ความแข็งแกร่งทางจิตใจ, และความคล่องตัว. \n",
      "จูเหลียวเป็นดอกไม้ของแผนกศิลปกรรม, เธอมีพลัง, และครั้งหนึ่งเธอทำให้ผู้ชายใช้เงิน 30,000 หยวนเพื่อเธอด้วยแค่สามคำ. \n",
      "จูยิ้มเย้ยเฉินและถามว่าเขาต้องการเล่นรวยและเจ้าชู้กับเธอหรือไม่. \n",
      "ผู้คนรอบตัวมองเฉินและคิดว่าเขามีปัญหา. \n",
      "เฉินยิ้มและบอกว่าเธอจะรู้ถ้าเขาดีจริง ๆ เมื่อเธอได้ลองมัน. \n",
      "เธอบอกว่าเธออยากเลี้ยงขนมให้เพื่อน ๆ ในโรงอาหารวันนี้และขอให้เขาช่วยจ่ายเงินให้เธอ. \n",
      "เธอคิดว่าเขาแต่งตัวเหมือนคนขอทานและยังพยายามเจ้าชู้กับเธอ. \n",
      "เธอจะทำให้เขารู้ว่าการรู้สึกเสียนั้นคืออะไร. \n",
      "แต่เธอสับสนเมื่อเขาโอนเงิน 50,000 หยวนไปให้เธอ. \n",
      "ผู้คนรอบ ๆ ก็รู้สึกตกใจเช่นกัน. \n",
      "พวกเขาคิดว่าคนนี้ดูเหมือนคนแพ้, แต่เขาคือเด็กคนรวยที่ซ่อนอยู่. \n",
      "เฉินบอกว่า 50,000 ไม่ใช่เงินมากสำหรับเขา. \n",
      "เขายิ้มและถามเธอว่าสามารถเพิ่มเธอบน WeChat ได้ไหม. \n",
      "จูยังรู้สึกทึ่งและสงสัยว่าเขาเป็นคนรวยรุ่นที่สองหรือเปล่า, ดังนั้นเธอจึงตัดสินใจเล่นตาม. \n",
      "เธอบอกไม่ต้องกังวลและแค่ไปที่ไหนสักแห่งด้วยกัน. \n",
      "เฉินเริ่มเหงื่อแตกเพราะไม่เคยมีสาวคนไหนเข้ามาใกล้เขาแบบนี้มาก่อน. \n",
      "เธอนำเขาไปที่ร้านแบรนด์, เธอบอกว่าเธอไม่ใช่เด็กคนรวย, แต่เขาคือคนที่ขุดทอง. \n",
      "เธอแค่ต้องการเห็นความจริงใจและทัศนคติของเขา. \n",
      "เขาบอกว่าไม่มีปัญหา, เธอสามารถเลือกอะไรก็ได้ที่ต้องการ. \n",
      "เขาต้องการให้เธอทดลองใช้ dog licking system. \n",
      "ภายในร้าน, เขาได้ยินเสียงที่คุ้นเคย. \n",
      "เขามองไปในทิศทางนั้นและเห็นชาดงอยู่ที่นั่นกำลังช็อปปิ้งกระเป๋าหรู. \n",
      "เขารู้สึกเศร้าเมื่อเห็นเธอที่นั่น. \n",
      "จูได้รู้ว่าเด็กหญิงคนนั้นคือแฟนเก่าของเขา. \n",
      "เธอสะดวกตาให้เฉินและบอกว่าเธอมาในเวลาที่ไม่เหมาะ. \n",
      "เขายิ้มและบอกว่า, เธอมาในเวลาที่เหมาะ. \n",
      "จูไปยังเคาน์เตอร์และถามสาวที่นั่นว่ายังมีกระเป๋าที่ขายในฤดูใบไม้ผลิในร้านนี้อยู่หรือไม่. \n",
      "คุณผู้หญิงที่ขายตอบว่าเหลือเพียงชิ้นเดียว แต่หญิงสาวที่นั่นกำลังลองอยู่. \n",
      "ชาดงมองดูเฉินและบอกว่าเธอไม่เชื่อว่าคนที่จนขนาดนี้นำสาวมาในร้านนี้. \n",
      "เธอตัดสินใจจะแสดงให้เขาเห็นความแตกต่างระหว่างคนแพ้และคนที่ทรงพลัง. \n",
      "เธอบอกแฟนของเธอว่า วันเกิดของเธอกำลังจะมาถึง. \n",
      "เขาถามด้วยความรำคาญว่าเธอไม่เคยเฉลิมฉลองวันเกิดเมื่อเดือนที่แล้วหรือ. \n",
      "เธอบอกว่าเป็นวันเกิดตามปฏิทินจันทรคติ และผู้คนก็ยังมีวันเกิดตามปฏิทินสุริยคติ. \n",
      "แฟนของเธอบอกว่าเขาไม่ชอบผู้หญิงที่มักจะมองเรื่องเงิน. \n",
      "เขาถามว่าเธออยู่กับเขาเพราะเงินของเขาใช่หรือไม่. \n",
      "เธอเข้าใจความหมายของเขาและรู้สึกกลัว. \n",
      "จูหยิบกระเป๋าจากบ่า ของชาดงและบอกว่าถ้าเธอไม่ซื้อ, เธอจะหยิบไป. \n",
      "เฉินจ่ายค่ากระเป๋า. \n",
      "ในการทำเช่นนี้, ความชื่นชอบของจูต่อเขาเพิ่มขึ้น. \n",
      "เขายิ้มในใจคิดว่านี่คือพลังของเงิน. \n",
      "กระเป๋าหนึ่งใบนั้นได้เพิ่มความชื่นชอบของเธอถึง 60 คะแนน. \n",
      "ถ้าแบบนี้จูจะถึงเกณฑ์ถ้าเธอซื้อเพิ่มเติมอีกไม่กี่ใบ. \n",
      "เขาคิดว่าจำนวนเงินที่เขาได้รับคืนมันน้อยเกินไป. \n",
      "สองสาวที่อยู่ร้านกระซิบกันว่าไม่เข้าใจว่าทำไมบางคนดูเหมือนคนรวยและขี้เหนียวกับแฟน, \n",
      "ในขณะที่บางคนดูธรรมดาแต่ใช้จ่ายเป็นหมื่น ๆ โดยไม่รู้สึกอะไร. \n",
      "นั่นคือเหตุผลที่ผู้จัดการร้านสอนพวกเขาไม่ให้มองคนผ่านแว่นสีและบอกว่า \n",
      "พวกเขาไม่สามารถตัดสินพลังการใช้จ่ายตามรูปลักษณ์ได้. \n",
      "ชาดงรู้สึกดูหมิ่น. \n",
      "จูทำให้เธอรู้สึกอิจฉาและบอกว่ากระเป๋านั้นก็เหมือนแฟน, \n",
      "มันดีกว่าที่จะคว้ามันไว้. \n",
      "จากนั้นเธอมองไปที่เฉินและคิดว่าเธอต้องคว้าปลาตัวใหญ่ตัวนี้. \n",
      "เธอคว้าข้อมือเขา, เรียกเขาว่า \"สามี\", และขอบคุณเขาสำหรับของขวัญนั้น. \n",
      "เมื่อเห็นเช่นนั้น, ชาดงเริ่มน้ำตาไหลขณะผลักเฉินไปที่ท้องด้วยความโกรธ.]\n",
      "Info: on_underlying_io_bytes_received: Close frame received\n",
      "Info: on_underlying_io_bytes_received: closing underlying io.\n",
      "Info: on_underlying_io_close_complete: uws_state: 6.\n"
     ]
    }
   ],
   "source": [
    "glossary = read_json_to_dict(\"glossary.json\")\n",
    "for output_file_path in output_file_paths:\n",
    "    process_audio(output_file_path, glossary)\n",
    "    break"
   ]
  },
  {
   "cell_type": "code",
   "execution_count": 63,
   "metadata": {},
   "outputs": [
    {
     "name": "stdout",
     "output_type": "stream",
     "text": [
      "Data successfully loaded from glossary.json\n",
      "Data successfully loaded from chunk_0.json\n",
      "Object successfully saved to chunk_0.json\n",
      "Speech synthesized for text [เรื่องราวเริ่มต้นในห้องในอาคารที่พัก, ที่เฉินหยวนกำลังมองหน้าจอโทรศัพท์และร้องไห้, สาเหตุที่เขาร้องไห้คือข้อความที่แฟนสาวของเขาส่งมา, เธอกำลังบอกเลิกกับเขา, เขาถามเธอว่าทำไมถึงเป็นแบบนี้อย่างกะทันหัน, ขณะร้องไห้ เขาส่งข้อความไปหเธอและสัญญาว่าจะพยายามทำงานหนักเพื่อให้เธอมีชีวิตที่มีความสุข, แต่เธอก็บล็อกเขาก่อนที่เขาจะส่งข้อความ, เขานอนอยู่บนเก้าอี้เหมือนคนตาย, เพื่อนร่วมห้องของเขาไม่รู้ว่าเกิดอะไรขึ้นกับเขาและเรียกเขาไปเล่นเกม, แต่เขาก็เมินพวกเขาและวิ่งออกจากห้อง, เมื่อเห็นพฤติกรรมแปลก ๆ ของเขา, พวกเขาคิดว่ามันเป็นอีกกรณีของการเลิกกัน, นี่คือครั้งที่หกในเดือนนี้ที่เขาเผชิญกับการเลิกกัน, บนถนนผู้คนมองเขาและเริ่มกระซิบเกี่ยวกับเขา, พวกเขารู้เฉินหยวนว่าเป็นที่รู้จักในฐานะ dog licker ชื่อดัง, เฉินมาที่นี่เพื่อพบกับหญิงสาวที่เพิ่งบอกเลิกกับเขา, เธอชื่อชาดง, เธอบอกเขาว่าอย่าทำตัวแบบนี้ต่อหน้าสาธารณะเพราะทุกคนกำลังมองพวกเขา, เขาบอกเธอว่าเขารู้ว่าเธอโกรธเขา, ดังนั้นเขาจึงนำหมูเกาบาวที่เธอชอบมาให้, เขาขอโทษให้เธอให้อภัยเขาและอย่าพูดถึงการเลิกกันอีก, เขาจะเปลี่ยนแปลงตัวเองให้ดีขึ้น, ผู้คนรอบตัวมองพวกเขาและหัวเราะใส่เขา ขณะกระซิบกับกัน, มีคนบอกอีกคนว่าตนได้ยินว่าเฉินทำงานพาร์ทไทม์สี่งานเพื่อซื้อของขวัญให้เธอ, แต่สุดท้ายก็โดนเขาบอกเลิก, ชาดงบอกเขาว่าเธอไม่โกรธ, แฟนเก่าของเขาเฉินหยวนกลับต่างหากที่โกรธเธอ, เขาบอกเธอว่าเขาได้หมูเกาบาวที่เธอชอบมา, เขาขอโทษให้เธอให้อภัยเขา, เธอบอกเขาว่าเขานำหมูเกาบาวที่เธอชอบมาจริง ๆ, หลังคิดมาก, เธอรู้สึกว่าเขาต้องการเธอมากกว่า, เขาโกรธและถามเธอว่าเธอมองเขาเป็นใคร, เฉินบอกว่าแฟนเก่าของเธอเป็นคนโกง, เขาถามว่าหรือเธอลืมไปว่าเขาเคยโกงเธอ, เขายังทำให้เธอต้องทำแท้ง, ขณะที่เขากำลังตะโกนใส่เธอ, รถเมอร์เซเดสหยุดใกล้พวกเขา, มันคือแฟนของชาดง, เขาบอกเธอให้ขึ้นรถ, ก่อนขึ้นรถเธอบอกเฉินว่าให้ดีกว่าที่จะไม่เจอกันอีก, เฉินไม่ต้องการให้แฟนของเธอเข้าใจผิด, เธอจากไปกับแฟนขณะที่เฉินยืนมองพวกเขาไป, เฉินโยนอาหารนั้นลงถังขยะและเข้าไปในร้านสะดวกซื้อ, เขาหยิบขวดน้ำจากชั้นวางและเริ่มดื่ม, เขาอยากรู้ว่าทำไมหัวใจของเขาถึงถูกทรยศเสมอและเขาจะเป็น dog licker ตลอดชีวิตหรือไม่, เขาคว้าขวดน้ำด้วยความโกรธและตัดสินใจว่ามันไม่มีอะไรผิดที่จะเป็น dog licker, ทันใดนั้นเขาก็ได้รับการแจ้งเตือนว่าถูกโกง, เขาไม่ได้โกรธ, เขาบอกว่าตนไม่ได้ถูกโกง, เฉินแปลกใจที่การแจ้งเตือนบอกว่าระบบ dog licking ที่มีพลังมากที่สุดได้ตรวจพบโฮสต์, หน้าจอปรากฏขึ้นต่อหน้าเขาซึ่งระบุข้อมูลประวัติและสถิติของเขา, เขาแปลกใจที่เห็นระบบ dog licking และที่เขาได้เชื่อมต่อมันเข้าไป, เขาพยายามสัมผัสหน้าจอนั้นและสงสัยว่าการเชื่อมต่อใช้เพื่ออะไร, โดยไม่ได้ตั้งใจเขาสัมผัสหน้าอกของหญิงสาวคนหนึ่งที่ยืนอยู่ข้างหน้าเขา, เธอร้องตะโกนใส่เขา, เรียกเขาว่าคนวิปริต, และถามว่าเขาต้องการที่จะทำมือสกปรกหรือไม่, เธอบอกว่าเขาจ้องมองเธอมานานแล้ว, เขาไม่ได้โกรธ เขายอมรับว่าจ้องมองหน้าอกของเธอมาสักพัก, ระบบเริ่มแสดงข้อมูลของหญิงสาวคนนั้น, เธอชื่อจูเลียล, ระบบแจ้งเขาว่าด้วยความช่วยเหลือของระบบ dog licking, ถ้าความชื่นชอบของผู้หญิงต่อโฮสต์เกิน 95 คะแนน, การตอบโต้จะประสบความสำเร็จและตัวตนของเธอจะถูกเปลี่ยนเป็น dog licker ของโฮสต์, ตอนนี้เขาตระหนักว่าเงิน dog licking มูลค่า 90 พันล้านสามารถใช้จ่ายสำหรับผู้หญิงเท่านั้น, เขายังได้รับการบอกว่าตอนที่ฝ่ายตรงข้ามกลายเป็นหมาของโฮสต์, หนึ่งในสิบของจำนวนเงินที่ใช้จ่ายจะถูกตอบแทนเข้าบัญชีของโฮสต์และกลายเป็นทรัพย์สินส่วนตัวของโฮสต์, โฮสต์ยังสามารถได้รับสิ่งอื่น ๆ ได้, เฉินตัดสินใจที่จะใช้มันกับสาวคนที่อยู่ตรงหน้าเขา, เขายิ้มและบอกเธอว่าอย่าโกรธเขา, เขาจะจ่ายค่าอาหารของเธอในวันนี้, ระบบเชื่อมความสัมพันธ์ dog-licking ของพวกเขาประสบความสำเร็จ, ภารกิจของเขาคือการตอบโต้จู, รางวัลสำหรับการทำภารกิจให้สำเร็จคือทอง dog licking 10% และ 5 คะแนนพลัง, คะแนนเสริมนี้สามารถเสริมพลังด้านร่างกายของโฮสต์ได้รวมถึงความฟิตของร่างกายความแข็งแกร่งทางจิตและความคล่องแคล่ว, จูเลียลคือนางฟ้าของแผนกศิลปะ, เธอมีพลัง, และครั้งหนึ่งเธอเคยทำให้ผู้ชายต้องใช้เงิน 30,000 หยวนเพื่อเธอด้วยแค่สามคำ, จูยิ้มเยาะใส่เขาและถามว่าเขาต้องการเล่นคนรวยและจีบกับเธอหรือไม่, ผู้คนรอบตัวมองเฉินและคิดว่าเขากำลังมีปัญหา, เฉินยิ้มและบอกเธอว่าเธอจะรู้ถ้าเขาดีถ้าเธอลอง, เธอบอกว่าเธอต้องการเลี้ยงเพื่อนในโรงอาหารวันนี้และขอให้เขาช่วยเธอจ่าย, เธอคิดว่าเขาแต่งตัวเหมือนคนขอทานและยังพยายามจีบเธอ, เธอจะ让他รู้จักคำว่าละอายใจ, แต่เธอก็ตะลึงเมื่อเขาโอนเงิน 50,000 หยวนให้กับบัญชีของเธอ, ผู้คนรอบตัวก็ตกใจเช่นกัน, พวกเขาคิดว่าชายคนนี้ดูเหมือนคนล้มเหลว, แต่เขาคือเด็กหนุ่มที่รวยซ่อนอยู่, เฉินบอกว่า 50,000 ไม่มากสำหรับเขา, เขายิ้มและถามเธอว่าเขาสามารถเพิ่มเธอลงใน WeChat ได้ไหม, จูยังคงตะลึงและสงสัยว่าเขาเป็นคนรวยรุ่นที่สองหรือไม่, ดังนั้นเธอจึงตัดสินใจเล่นตามเขา, เธอบอกให้เขาไม่ต้องกังวลและว่ามันไม่เป็นไปไม่ได้ที่จะเพิ่ม WeChat, แต่เขาต้องไปกับเธอที่ไหนสักแห่ง, เฉินเริ่มรู้สึกเหงื่อออกเพราะไม่เคยมีสาวใกล้ชิดขนาดนี้มาก่อน, เธอพาเขาไปที่ร้านแบรนด์, เธอบอกเขาว่าเธอไม่ใช่เด็กหนุ่มที่รวย, แต่เขาคือคนขุดทอง, เธอแค่อยากเห็นความจริงใจและทัศนคติของเขา, เขาบอกว่าไม่มีปัญหา, เธอสามารถเอาอะไรก็ได้ที่เธอต้องการ, เขาต้องการให้เธอลองใช้ระบบ dog licking, ภายในร้านเขาได้ยินเสียงที่คุ้นเคย, เขามองไปทางนั้นและเห็นชาดงที่กำลังเลือกซื้อกระเป๋าหรู, เขารู้สึกเศร้าที่เห็นเธออยู่ที่นั่น, จูรู้ว่าหญิงสาวนั้นคือแฟนเก่าของเขา, เธอกะพริบตาให้เขาและบอกว่าเธอมาที่นี่ไม่ตรงเวลา, เขายิ้มและบอกว่า, เธอมาที่นี่เวลาเหมาะสม, จูเดินไปที่เคาน์เตอร์และถามพนักงานที่นั่นว่าที่ร้านยังมี กระเป๋าจากการประมูลฤดูใบไม้ผลิอยู่ไหม, เจ้าของร้านบอกว่ามีแค่ใบเดียวที่เหลือและหญิงสาวที่นั่นกำลังลองอยู่, ชาดงมองไปที่เฉินและบอกว่าไม่เชื่อว่าคนจนแบบเขาได้นำสาวเข้ามาในร้านนี้, เธอตัดสินใจจะให้เขาเห็นความแตกต่างระหว่างคนล้มเหลวและคนบ้า, เธอพูดกับแฟนของเธอว่า วันเกิดของเธอกำลังจะมาถึง, เขาเบื่อหน่ายตอบว่า, ถ้าเธอไม่จัดงานวันเกิดเมื่อเดือนที่แล้ว, เธอบอกเขาว่านั่นเป็นวันเกิดตามปฏิทินจันทรคติ, และคนยังมีวันเกิดตามปฏิทินสุริยะ, แฟนของเธอบอกว่าเขาไม่ชอบสาวที่เป็นคนวัตถุนิยม, เขาถามว่าเธออยู่กับเขาเพราะเงินของเขาไหม, เธอเข้าใจความหมายของเขาและรู้สึกกลัว, จูหยิบกระเป๋าที่ไหล่ของชาดงออกและบอกว่าเธอจะเอาหากเธอไม่ได้ซื้อ, เฉินจ่ายค่าใช้จ่าย, และด้วยเหตุนี้ความชื่นชอบของจูก็เพิ่มขึ้น, เขายิ้มด้วยความคิดว่านั่นคือพลังของเงิน, กระเป๋าใบหนึ่งได้เพิ่ม 60 คะแนนความชื่นชอบให้กับเขา, ถ้าเป็นแบบนี้, จูจะถึงเกณฑ์ถ้าเธอซื้อกระเป๋าอีกเล็กน้อย, จากนั้นเขาคิดว่าจำนวนเงินที่เขาได้รับกลับมานั้นน้อยเกินไป, ทั้งคู่พนักงานในร้านกระซิบกันว่าทำไมบางคนดูร่ำรวยและตระหนี่กับแฟนสาวของพวกเขา, ในขณะที่อีกบางคนดูธรรมดาและใช้เงินหลายหมื่นหยวนโดยไม่กระพริบตา, เพราะเหตุนี้ผู้จัดการร้านจึงสอนให้พวกเขาไม่มองคนผ่านก glasses ที่ผิดสีและว่าพวกเขาไม่สามารถตัดสินพลังการใช้จ่ายจากเปลือกภายนอกเพียงอย่างเดียว, ชาดงรู้สึกถูกดูถูก, จูทำให้เธอรู้สึกอิจฉาและบอกว่ากระเป๋าหนึ่งใบก็เหมือนแฟน, มันคือสิ่งที่ดีกว่าต้องคว้ามา, แล้วเธอมองไปที่เฉินและคิดว่าเธอต้องคว้าปลาใหญ่ตัวนี้, เธอคว้าแขนเขาเรียกเขาว่าผัวและขอบคุณเขาสำหรับของขวัญนั้น, ชาดงเริ่มน้ำตาไหลเมื่อเห็นเหตุการณ์นั้น, เธอผลักเฉินด้วยความโกรธด้วยท้องของเธอ]\n",
      "Info: on_underlying_io_bytes_received: Close frame received\n",
      "Info: on_underlying_io_bytes_received: closing underlying io.\n",
      "Info: on_underlying_io_close_complete: uws_state: 6.\n"
     ]
    }
   ],
   "source": [
    "filename = \"chunk_0.json\"\n",
    "output_file_path_without_ext = os.path.basename(filename).split(\".\")[0]\n",
    "glossary = read_json_to_dict(\"glossary.json\")\n",
    "info = read_json_to_dict(filename)\n",
    "translated_result = translate_text(info['text'], glossary)\n",
    "info['translated_text'] = translated_result\n",
    "save_object_to_json(info, f\"{output_file_path_without_ext}.json\")\n",
    "generate_speech_from_text(translated_result, f\"{output_file_path_without_ext}_translated.mp3\")"
   ]
  },
  {
   "cell_type": "code",
   "execution_count": 44,
   "metadata": {},
   "outputs": [
    {
     "name": "stdout",
     "output_type": "stream",
     "text": [
      "Data successfully loaded from glossary.json\n",
      "Chen = เฉิน\n",
      "Shadong = ชาตง\n",
      "dog-licking = dog-licking\n"
     ]
    }
   ],
   "source": [
    "glossary = read_json_to_dict(\"glossary.json\")\n",
    "\n",
    "# turn dict to string\n",
    "def dict_to_str(d: dict) -> str:\n",
    "    return \"\\n\".join([f\"{k} = {v}\" for k, v in d.items()])\n",
    "glossary_str = dict_to_str(glossary)\n",
    "print(glossary_str)"
   ]
  }
 ],
 "metadata": {
  "kernelspec": {
   "display_name": "translate-sub",
   "language": "python",
   "name": "python3"
  },
  "language_info": {
   "codemirror_mode": {
    "name": "ipython",
    "version": 3
   },
   "file_extension": ".py",
   "mimetype": "text/x-python",
   "name": "python",
   "nbconvert_exporter": "python",
   "pygments_lexer": "ipython3",
   "version": "3.12.8"
  }
 },
 "nbformat": 4,
 "nbformat_minor": 2
}
