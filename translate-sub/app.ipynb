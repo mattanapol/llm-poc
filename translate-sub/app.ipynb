{
 "cells": [
  {
   "cell_type": "code",
   "execution_count": 1,
   "metadata": {},
   "outputs": [
    {
     "ename": "FileNotFoundError",
     "evalue": "[Errno 2] No such file or directory: '/Users/kaewsai/Downloads/240706/Original File/03.ass'",
     "output_type": "error",
     "traceback": [
      "\u001b[0;31m---------------------------------------------------------------------------\u001b[0m",
      "\u001b[0;31mFileNotFoundError\u001b[0m                         Traceback (most recent call last)",
      "Cell \u001b[0;32mIn[1], line 34\u001b[0m\n\u001b[1;32m     31\u001b[0m         output_dict[key] \u001b[38;5;241m=\u001b[39m value\n\u001b[1;32m     32\u001b[0m     \u001b[38;5;28;01mreturn\u001b[39;00m output_dict\n\u001b[0;32m---> 34\u001b[0m original_sentences \u001b[38;5;241m=\u001b[39m get_original_text(\u001b[38;5;124m'\u001b[39m\u001b[38;5;124m/Users/kaewsai/Downloads/240706/Original File/03.ass\u001b[39m\u001b[38;5;124m'\u001b[39m)\n\u001b[1;32m     35\u001b[0m numbered_sentences \u001b[38;5;241m=\u001b[39m list_to_lines(original_sentences[\u001b[38;5;241m0\u001b[39m:\u001b[38;5;241m20\u001b[39m])\n\u001b[1;32m     36\u001b[0m \u001b[38;5;28mprint\u001b[39m(numbered_sentences)\n",
      "Cell \u001b[0;32mIn[1], line 2\u001b[0m, in \u001b[0;36mget_original_text\u001b[0;34m(file_path)\u001b[0m\n\u001b[1;32m      1\u001b[0m \u001b[38;5;28;01mdef\u001b[39;00m \u001b[38;5;21mget_original_text\u001b[39m(file_path: \u001b[38;5;28mstr\u001b[39m):\n\u001b[0;32m----> 2\u001b[0m     \u001b[38;5;28;01mwith\u001b[39;00m \u001b[38;5;28mopen\u001b[39m(file_path, \u001b[38;5;124m'\u001b[39m\u001b[38;5;124mr\u001b[39m\u001b[38;5;124m'\u001b[39m, encoding\u001b[38;5;241m=\u001b[39m\u001b[38;5;124m'\u001b[39m\u001b[38;5;124mutf-8\u001b[39m\u001b[38;5;124m'\u001b[39m) \u001b[38;5;28;01mas\u001b[39;00m file:\n\u001b[1;32m      3\u001b[0m         lines \u001b[38;5;241m=\u001b[39m file\u001b[38;5;241m.\u001b[39mreadlines()\n\u001b[1;32m      5\u001b[0m     events_section \u001b[38;5;241m=\u001b[39m \u001b[38;5;28;01mFalse\u001b[39;00m\n",
      "File \u001b[0;32m~/miniconda3/envs/translate-sub/lib/python3.12/site-packages/IPython/core/interactiveshell.py:324\u001b[0m, in \u001b[0;36m_modified_open\u001b[0;34m(file, *args, **kwargs)\u001b[0m\n\u001b[1;32m    317\u001b[0m \u001b[38;5;28;01mif\u001b[39;00m file \u001b[38;5;129;01min\u001b[39;00m {\u001b[38;5;241m0\u001b[39m, \u001b[38;5;241m1\u001b[39m, \u001b[38;5;241m2\u001b[39m}:\n\u001b[1;32m    318\u001b[0m     \u001b[38;5;28;01mraise\u001b[39;00m \u001b[38;5;167;01mValueError\u001b[39;00m(\n\u001b[1;32m    319\u001b[0m         \u001b[38;5;124mf\u001b[39m\u001b[38;5;124m\"\u001b[39m\u001b[38;5;124mIPython won\u001b[39m\u001b[38;5;124m'\u001b[39m\u001b[38;5;124mt let you open fd=\u001b[39m\u001b[38;5;132;01m{\u001b[39;00mfile\u001b[38;5;132;01m}\u001b[39;00m\u001b[38;5;124m by default \u001b[39m\u001b[38;5;124m\"\u001b[39m\n\u001b[1;32m    320\u001b[0m         \u001b[38;5;124m\"\u001b[39m\u001b[38;5;124mas it is likely to crash IPython. If you know what you are doing, \u001b[39m\u001b[38;5;124m\"\u001b[39m\n\u001b[1;32m    321\u001b[0m         \u001b[38;5;124m\"\u001b[39m\u001b[38;5;124myou can use builtins\u001b[39m\u001b[38;5;124m'\u001b[39m\u001b[38;5;124m open.\u001b[39m\u001b[38;5;124m\"\u001b[39m\n\u001b[1;32m    322\u001b[0m     )\n\u001b[0;32m--> 324\u001b[0m \u001b[38;5;28;01mreturn\u001b[39;00m io_open(file, \u001b[38;5;241m*\u001b[39margs, \u001b[38;5;241m*\u001b[39m\u001b[38;5;241m*\u001b[39mkwargs)\n",
      "\u001b[0;31mFileNotFoundError\u001b[0m: [Errno 2] No such file or directory: '/Users/kaewsai/Downloads/240706/Original File/03.ass'"
     ]
    }
   ],
   "source": [
    "def get_original_text(file_path: str):\n",
    "    with open(file_path, 'r', encoding='utf-8') as file:\n",
    "        lines = file.readlines()\n",
    "\n",
    "    events_section = False\n",
    "    text_column = []\n",
    "\n",
    "    for line in lines:\n",
    "        if line.strip() == '[Events]':\n",
    "            events_section = True\n",
    "            continue\n",
    "        if events_section and line.startswith('Dialogue'):\n",
    "            text = line.split(',', maxsplit=9)[-1].strip()\n",
    "            text_column.append(text)\n",
    "    return text_column\n",
    "\n",
    "def list_to_lines(list_str: list):\n",
    "    numbered_lines = \"\"\n",
    "    for index, item in enumerate(list_str):\n",
    "        numbered_lines += f\"{index}-{item}\\n\"\n",
    "    return numbered_lines\n",
    "\n",
    "def numbered_str_to_dict(input_str):\n",
    "    output_dict = {}\n",
    "    lines = input_str.split(\"\\n\")\n",
    "    for line in lines:\n",
    "        try:\n",
    "            key, value = line.split(\"-\")\n",
    "        except ValueError:\n",
    "            continue\n",
    "        output_dict[key] = value\n",
    "    return output_dict\n",
    "\n",
    "original_sentences = get_original_text('/Users/kaewsai/Downloads/240706/Original File/03.ass')\n",
    "numbered_sentences = list_to_lines(original_sentences[0:20])\n",
    "print(numbered_sentences)"
   ]
  },
  {
   "cell_type": "code",
   "execution_count": 10,
   "metadata": {},
   "outputs": [
    {
     "name": "stdout",
     "output_type": "stream",
     "text": [
      "\n",
      "```\n",
      "0-[สัญญาหย่า]\n",
      "1-[ติดตามตอนต่อไป]\n",
      "2-มาทำไมเนี่ย\n",
      "3-ทำไม\n",
      "4-ฉันมารบกวน\n",
      "5-สามีฉัน\n",
      "6-กับเพื่อนซี้ฉันหรือไง\n",
      "7-ริษา\n",
      "8-เราสนิทกันขนาดนี้\n",
      "9-แต่เธอ\n",
      "10-ไปยั่วยวนสามีฉัน\n",
      "11-เธอมันหน้าด้าน\n",
      "12-อ๊ะ\n",
      "13-พอแล้ว\n",
      "14-หลินหยู ฉันบอกเธอ\n",
      "15-ฉันทนเธอมานานแล้ว\n",
      "16-เฮ้อ\n",
      "17-เธอน่าจะดูตัวเองบ้าง\n",
      "18-ตอนนี้สภาพเธอซกมก\n",
      "19-เธอเหมาะกับฉันไหม\n",
      "```\n"
     ]
    }
   ],
   "source": [
    "from langchain_openai import ChatOpenAI\n",
    "from langchain_core.prompts import ChatPromptTemplate\n",
    "from langchain_core.output_parsers import StrOutputParser\n",
    "\n",
    "llm = ChatOpenAI(model=\"gpt-3.5-turbo\")\n",
    "\n",
    "prompt = ChatPromptTemplate.from_messages([\n",
    "    (\"system\",\n",
    "     \"\"\"\n",
    "     You are movie subtitle translator that can translate Chinese into Thai.\n",
    "     You will be provide with list of Chinese subtitle string.\n",
    "     You have to translate each of them and while keep same number of sentence.\n",
    "     Output should be in line, while the number of line should be the same as number of sentence.\n",
    "     Example input:\n",
    "     ```\n",
    "     0-[离婚协议书]\n",
    "     1-[未完待续]\n",
    "     2-你来这干嘛啊\n",
    "     3-怎么\n",
    "     4-我来的不是时候了\n",
    "     5-打扰我老公\n",
    "     6-跟我闺蜜的好事了\n",
    "     7-还有你陈雅舒\n",
    "     8-我把你当亲姐妹\n",
    "     9-你居然\n",
    "     ```\n",
    "     Example output:\n",
    "     ```\n",
    "     0-[สัญญาหย่า]\n",
    "     1-[ติดตามตอนต่อไป]\n",
    "     2-มาทำไมเนี่ย\n",
    "     3-ทำไม\n",
    "     4-ฉันมารบกวน\n",
    "     5-สามีฉัน\n",
    "     6-กับเพื่อนซี้ฉันหรือไง\n",
    "     7-ริษา\n",
    "     8-เราสนิทกันขนาดนี้\n",
    "     9-แต่เธอ\n",
    "     ```\n",
    "     \"\"\"),\n",
    "    (\"user\",\n",
    "     \"\"\"\n",
    "     {sentences}\n",
    "     \"\"\"),\n",
    "])\n",
    "\n",
    "output_parser = StrOutputParser()\n",
    "\n",
    "chain = prompt | llm | output_parser\n",
    "output = chain.invoke({\"sentences\": numbered_sentences})\n",
    "print(output)"
   ]
  },
  {
   "cell_type": "code",
   "execution_count": 15,
   "metadata": {},
   "outputs": [
    {
     "data": {
      "text/plain": [
       "{'0': '[สัญญาหย่า]',\n",
       " '1': '[ติดตามตอนต่อไป]',\n",
       " '2': 'มาทำไมเนี่ย',\n",
       " '3': 'ทำไม',\n",
       " '4': 'ฉันมารบกวน',\n",
       " '5': 'สามีฉัน',\n",
       " '6': 'กับเพื่อนซี้ฉันหรือไง',\n",
       " '7': 'ริษา',\n",
       " '8': 'เราสนิทกันขนาดนี้',\n",
       " '9': 'แต่เธอ',\n",
       " '10': 'ไปยั่วยวนสามีฉัน',\n",
       " '11': 'เธอมันหน้าด้าน',\n",
       " '12': 'อ๊ะ',\n",
       " '13': 'พอแล้ว',\n",
       " '14': 'หลินหยู ฉันบอกเธอ',\n",
       " '15': 'ฉันทนเธอมานานแล้ว',\n",
       " '16': 'เฮ้อ',\n",
       " '17': 'เธอน่าจะดูตัวเองบ้าง',\n",
       " '18': 'ตอนนี้สภาพเธอซกมก',\n",
       " '19': 'เธอเหมาะกับฉันไหม'}"
      ]
     },
     "execution_count": 15,
     "metadata": {},
     "output_type": "execute_result"
    }
   ],
   "source": [
    "numbered_str_to_dict(output)"
   ]
  }
 ],
 "metadata": {
  "kernelspec": {
   "display_name": "translate-sub",
   "language": "python",
   "name": "python3"
  },
  "language_info": {
   "codemirror_mode": {
    "name": "ipython",
    "version": 3
   },
   "file_extension": ".py",
   "mimetype": "text/x-python",
   "name": "python",
   "nbconvert_exporter": "python",
   "pygments_lexer": "ipython3",
   "version": "3.12.4"
  }
 },
 "nbformat": 4,
 "nbformat_minor": 2
}
