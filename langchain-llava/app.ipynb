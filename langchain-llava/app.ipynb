{
 "cells": [
  {
   "cell_type": "code",
   "execution_count": 2,
   "metadata": {},
   "outputs": [],
   "source": []
  },
  {
   "cell_type": "code",
   "execution_count": 5,
   "metadata": {},
   "outputs": [],
   "source": [
    "from PIL import Image, ImageDraw\n",
    "import base64\n",
    "from io import BytesIO\n",
    "\n",
    "def convert_to_base64(pil_image: Image):\n",
    "    buffered = BytesIO()\n",
    "    pil_image.save(buffered, format=\"PNG\")\n",
    "    img_str = base64.b64encode(buffered.getvalue()).decode(\"utf-8\")\n",
    "    return img_str\n",
    "\n",
    "def load_image(image_path: str):\n",
    "    pil_image = Image.open(image_path)\n",
    "    image_b64 = convert_to_base64(pil_image)\n",
    "    print(\"Loaded image successfully!\")\n",
    "    return image_b64"
   ]
  },
  {
   "cell_type": "code",
   "execution_count": 6,
   "metadata": {},
   "outputs": [
    {
     "name": "stdout",
     "output_type": "stream",
     "text": [
      "Loaded image successfully!\n"
     ]
    }
   ],
   "source": [
    "image_path = \"/Users/kaewsai/Downloads/seller-center-home-en-30.jpeg\"\n",
    "prompt = \"\"\"Detect the location of \"Create account/Login\" text in this image and provide its normalized bounding box coordinates.\n",
    "No preamble or explanation is needed, just the coordinate.\"\"\"\n",
    "image_b64 = load_image(image_path)\n",
    "pil_image = Image.open(image_path)"
   ]
  },
  {
   "cell_type": "code",
   "execution_count": 14,
   "metadata": {},
   "outputs": [
    {
     "name": "stdout",
     "output_type": "stream",
     "text": [
      " [0.376,0.492,0.518,0.696]\n"
     ]
    }
   ],
   "source": [
    "from langchain_community.llms import Ollama\n",
    "\n",
    "llava = Ollama(model=\"llava:13b\")\n",
    "resp = llava.invoke(prompt, images=[image_b64])\n",
    "print(resp)"
   ]
  },
  {
   "cell_type": "code",
   "execution_count": 16,
   "metadata": {},
   "outputs": [
    {
     "name": "stdout",
     "output_type": "stream",
     "text": [
      "0.55, 0.23, 0.67, 0.47\n"
     ]
    }
   ],
   "source": [
    "from langchain_openai import ChatOpenAI\n",
    "from langchain_core.messages import HumanMessage\n",
    "\n",
    "llm = ChatOpenAI(model=\"gpt-4o\", temperature=0.2)\n",
    "\n",
    "resp = llm.invoke(\n",
    "             [HumanMessage(\n",
    "             content=[\n",
    "             {\"type\": \"text\", \"text\": prompt},\n",
    "             {\"type\": \"image_url\", \"image_url\": {\"url\": f\"data:image/jpeg;base64,{image_b64}\"}},\n",
    "             ])]\n",
    "             )\n",
    "print(resp.content)"
   ]
  },
  {
   "cell_type": "code",
   "execution_count": 20,
   "metadata": {},
   "outputs": [],
   "source": [
    "crop = pil_image.crop([0,0,300,30])\n",
    "crop.show()"
   ]
  },
  {
   "cell_type": "code",
   "execution_count": 21,
   "metadata": {},
   "outputs": [
    {
     "name": "stderr",
     "output_type": "stream",
     "text": [
      "Some weights of VisionEncoderDecoderModel were not initialized from the model checkpoint at microsoft/trocr-large-printed and are newly initialized: ['encoder.pooler.dense.bias', 'encoder.pooler.dense.weight']\n",
      "You should probably TRAIN this model on a down-stream task to be able to use it for predictions and inference.\n",
      "/Users/kaewsai/miniconda3/envs/poc-langchain-llava/lib/python3.12/site-packages/transformers/generation/utils.py:1168: UserWarning: Using the model-agnostic default `max_length` (=20) to control the generation length. We recommend setting `max_new_tokens` to control the maximum length of the generation.\n",
      "  warnings.warn(\n"
     ]
    },
    {
     "name": "stdout",
     "output_type": "stream",
     "text": [
      "['NOCNOC']\n"
     ]
    }
   ],
   "source": [
    "from transformers import TrOCRProcessor, VisionEncoderDecoderModel\n",
    "from PIL import Image\n",
    "\n",
    "processor = TrOCRProcessor.from_pretrained('microsoft/trocr-large-printed')\n",
    "model = VisionEncoderDecoderModel.from_pretrained('microsoft/trocr-large-printed')\n",
    "pixel_values = processor(images=crop.convert(\"RGB\"), return_tensors=\"pt\").pixel_values\n",
    "\n",
    "generated_ids = model.generate(pixel_values)\n",
    "generated_ocr = processor.batch_decode(generated_ids, skip_special_tokens=True)\n",
    "print(generated_ocr)\n"
   ]
  },
  {
   "cell_type": "code",
   "execution_count": 17,
   "metadata": {},
   "outputs": [],
   "source": [
    "predictions = [0.55, 0.23, 0.67, 0.47]\n",
    "\n",
    "x0 = predictions[0]\n",
    "x1 = predictions[2]\n",
    "y0 = predictions[1]\n",
    "y1 = predictions[3]\n",
    "\n",
    "with Image.open(image_path) as im:\n",
    "    width, height = im.size\n",
    "    draw = ImageDraw.Draw(im)\n",
    "    draw.rectangle(((x0*width, y0*height),(x1*width, y1*height)), outline='Red')\n",
    "    # draw.rectangle(((1150, 30),(1350, 90)), outline='Red')\n",
    "    im.show()"
   ]
  }
 ],
 "metadata": {
  "kernelspec": {
   "display_name": "poc-langchain-llava",
   "language": "python",
   "name": "python3"
  },
  "language_info": {
   "codemirror_mode": {
    "name": "ipython",
    "version": 3
   },
   "file_extension": ".py",
   "mimetype": "text/x-python",
   "name": "python",
   "nbconvert_exporter": "python",
   "pygments_lexer": "ipython3",
   "version": "3.12.3"
  }
 },
 "nbformat": 4,
 "nbformat_minor": 2
}
